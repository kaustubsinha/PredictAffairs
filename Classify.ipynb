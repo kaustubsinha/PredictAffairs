{
  "cells": [
    {
      "metadata": {
        "trusted": true
      },
      "cell_type": "code",
      "source": "import os\ncurrent_path = os.getcwd()\n\nprint(current_path)\n\nfrom azureml.core import Workspace, Experiment, Run\nimport math, random, pickle, numpy, pandas\n\nws = Workspace.from_config()\n\nexperiment = Experiment(workspace = ws, name = \"PredictAffairs\")\n\nrun = experiment.start_logging()\nrun.complete()\n\nprint(\"Run completed 1\")\n\nrun\nexperiment",
      "execution_count": 4,
      "outputs": [
        {
          "output_type": "stream",
          "text": "/home/nbuser/library\nRun completed 1\n",
          "name": "stdout"
        },
        {
          "output_type": "execute_result",
          "execution_count": 4,
          "data": {
            "text/html": "<table style=\"width:100%\"><tr><th>Name</th><th>Workspace</th><th>Report Page</th><th>Docs Page</th></tr><tr><td>PredictAffairs</td><td>mlopstrialws</td><td><a href=\"https://ml.azure.com/experiments/PredictAffairs?wsid=/subscriptions/22b4e5a3-9229-45e2-a9f6-8bbc0a6ebdd3/resourcegroups/ml-ops-trial/workspaces/mlopstrialws\" target=\"_blank\" rel=\"noopener\">Link to Azure Machine Learning studio</a></td><td><a href=\"https://docs.microsoft.com/en-us/python/api/azureml-core/azureml.core.experiment.Experiment?view=azure-ml-py\" target=\"_blank\" rel=\"noopener\">Link to Documentation</a></td></tr></table>",
            "text/plain": "Experiment(Name: PredictAffairs,\nWorkspace: mlopstrialws)"
          },
          "metadata": {}
        }
      ]
    },
    {
      "metadata": {
        "trusted": true
      },
      "cell_type": "code",
      "source": "",
      "execution_count": null,
      "outputs": []
    }
  ],
  "metadata": {
    "kernelspec": {
      "name": "python36",
      "display_name": "Python 3.6",
      "language": "python"
    }
  },
  "nbformat": 4,
  "nbformat_minor": 2
}